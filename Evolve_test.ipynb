{
  "nbformat": 4,
  "nbformat_minor": 0,
  "metadata": {
    "colab": {
      "name": "Evolve_test.ipynb",
      "provenance": [],
      "collapsed_sections": []
    },
    "kernelspec": {
      "name": "python3",
      "display_name": "Python 3"
    },
    "language_info": {
      "name": "python"
    },
    "accelerator": "GPU"
  },
  "cells": [
    {
      "cell_type": "code",
      "metadata": {
        "id": "lyXkJ8xEbxDQ"
      },
      "source": [
        "#  from google.colab import drive\n",
        "#  drive.mount('/content/drive')"
      ],
      "execution_count": null,
      "outputs": []
    },
    {
      "cell_type": "code",
      "metadata": {
        "id": "MMk0ngNlYotL"
      },
      "source": [
        "import os\n",
        "import zipfile\n",
        "\n",
        "# Extract zip file\n",
        "local_ref = '/content/dataset.zip'\n",
        "zip_ref = zipfile.ZipFile(local_ref, 'r')\n",
        "zip_ref.extractall('/content/tmp')\n",
        "zip_ref.close()"
      ],
      "execution_count": null,
      "outputs": []
    },
    {
      "cell_type": "markdown",
      "metadata": {
        "id": "NA906oCt0XfB"
      },
      "source": [
        "# Model Buidling"
      ]
    },
    {
      "cell_type": "code",
      "metadata": {
        "id": "Fvd-RN0Mbfne"
      },
      "source": [
        "import pandas as pd\n",
        "import numpy as np\n",
        "import shutil\n",
        "from tensorflow.keras.preprocessing.image import ImageDataGenerator\n",
        "import matplotlib.pyplot as plt\n",
        "import tensorflow as tf\n",
        "import sys\n",
        "import skimage\n",
        "from skimage.feature import Cascade\n",
        "from google.colab import files\n",
        "from tensorflow.keras.preprocessing import image"
      ],
      "execution_count": null,
      "outputs": []
    },
    {
      "cell_type": "code",
      "metadata": {
        "id": "S_83PLkTql7e"
      },
      "source": [
        "class PersonDetectionModel():\n",
        "  \"\"\"Combine the face detection capabilities and \n",
        "     face classification capabilties under one class\"\"\"\n",
        "\n",
        "  def __init__(self):\n",
        "    self.model = None\n",
        "\n",
        "  def extract_faces(self, image):\n",
        "    # Load the trained file from the module root.\n",
        "    trained_file = skimage.data.lbp_frontal_face_cascade_filename()\n",
        "    # Initialize the detector cascade.\n",
        "    detector = Cascade(trained_file)\n",
        "    detected = detector.detect_multi_scale(img=image,\n",
        "    scale_factor=1.2,\n",
        "    step_ratio=1,\n",
        "    min_size=(10, 10),\n",
        "    max_size=(200, 200))\n",
        "\n",
        "    extracted_faces = []\n",
        "    for patch in detected:\n",
        "      face_img = []\n",
        "      if patch['r'] > 20:\n",
        "        face_img = image[patch['r']-20:patch['r']+patch['height']+20,patch['c']:patch['c']+patch['width']]\n",
        "      if patch['r'] < 20 and patch['r'] > 10:\n",
        "        face_img = image[patch['r']-10:patch['r']+patch['height']+10,patch['c']:patch['c']+patch['width']]\n",
        "      if patch['r'] < 10:\n",
        "        face_img = image[patch['r']:patch['r']+patch['height'],patch['c']:patch['c']+patch['width']]\n",
        "      if len(face_img) == -0:\n",
        "        continue\n",
        "      extracted_faces.append(face_img)\n",
        "    \n",
        "    return extracted_faces\n",
        "\n",
        "  def create_face_dir(self, images_dir, target_dir):\n",
        "    for image_fname in os.listdir(images_dir):\n",
        "      # upload image\n",
        "      try:\n",
        "        img = plt.imread(os.path.join(images_dir,image_fname))\n",
        "      except:\n",
        "        print('Could not upload images!')\n",
        "        break\n",
        "      extracted_faces = self.extract_faces(img)\n",
        "      fname = str(image_fname).split('/')[-1].split('.')[0] + '.jpg'\n",
        "      for i, face in enumerate(extracted_faces):\n",
        "        if i<1:\n",
        "          plt.imsave(os.path.join(target_dir,fname), face)\n",
        "        else:\n",
        "          fname1 = fname.split('.')[0] + f\"({i}).\" + f'jpg'\n",
        "          plt.imsave(os.path.join(target_dir,fname1), face)\n",
        "\n",
        "  def prepare_face_dir(self, main_dir, main_target_dir):\n",
        "    label_dirs = os.listdir(main_dir)\n",
        "    for i, label in enumerate(label_dirs):\n",
        "      label_face_dir = os.path.join(main_target_dir, label)\n",
        "      os.mkdir(label_face_dir)\n",
        "      self.create_face_dir(os.path.join(main_dir,label), label_face_dir)\n",
        "      print(f\"Created face directory for {label}\")\n",
        "    \n",
        "    \n",
        "  def fit(self, main_dir, validation_split=0.2, augmentation=True, optimizer='rmsprop',\n",
        "                                          epochs=100, batch_size=32, plot_training=True, faces_directory= None):\n",
        "    if faces_directory:\n",
        "      pass\n",
        "    else:\n",
        "      faces_directory = os.getcwd() + '/tmp_face/'\n",
        "      try:\n",
        "        os.mkdir(faces_directory)\n",
        "      except FileExistsError:\n",
        "        shutil.rmtree(os.path.join(faces_directory))\n",
        "        os.mkdir(faces_directory)\n",
        "      self.prepare_face_dir(main_dir, faces_directory)\n",
        "\n",
        "    # TRAINING\n",
        "    TRAINING_DIR = faces_directory\n",
        "    if augmentation == True:\n",
        "      train_datagen = ImageDataGenerator(rescale = 1./255.,\n",
        "                                            rotation_range = 20,\n",
        "                                            width_shift_range = 0.2,\n",
        "                                            height_shift_range = 0.2,\n",
        "                                            shear_range = 0.2,\n",
        "                                            zoom_range = 0.4,\n",
        "                                            horizontal_flip = True,\n",
        "                                            fill_mode = 'nearest',\n",
        "                                            validation_split = validation_split # Validation split\n",
        "                                        )\n",
        "    else:\n",
        "      train_datagen = ImageDataGenerator(rescale = 1./255,\n",
        "                                          validation_split = validation_split)\n",
        "\n",
        "    train_generator = train_datagen.flow_from_directory(TRAINING_DIR,\n",
        "                                                        target_size=(150, 150),\n",
        "                                                        batch_size=batch_size,\n",
        "                                                        class_mode='categorical',\n",
        "                                                        subset='training')\n",
        "\n",
        "    validation_generator = train_datagen.flow_from_directory(TRAINING_DIR,\n",
        "                                                            target_size=(150,150),\n",
        "                                                            batch_size=batch_size,\n",
        "                                                            class_mode='categorical',\n",
        "                                                            subset='validation')\n",
        "    \n",
        "    num_class = len(os.listdir(faces_directory))\n",
        "    self.model = tf.keras.Sequential([\n",
        "                            tf.keras.layers.Conv2D(16, (3,3), activation='relu', input_shape=(150, 150, 3)),\n",
        "                            tf.keras.layers.MaxPooling2D(2,2),\n",
        "                            tf.keras.layers.Conv2D(32, (3,3), activation='relu'),\n",
        "                            tf.keras.layers.MaxPooling2D(2,2),\n",
        "                            # tf.keras.layers.Conv2D(32, (3,3), activation='relu'),\n",
        "                            # tf.keras.layers.MaxPooling2D(2,2),\n",
        "                            # tf.keras.layers.Conv2D(64, (3,3), activation='relu'),\n",
        "                            # tf.keras.layers.MaxPooling2D(2,2),\n",
        "                            tf.keras.layers.Conv2D(64, (3,3), activation='relu'),\n",
        "                            tf.keras.layers.MaxPooling2D(2,2),\n",
        "                            tf.keras.layers.Conv2D(128, (2,2), activation='relu'),\n",
        "                            tf.keras.layers.MaxPooling2D(2,2),\n",
        "                            tf.keras.layers.Conv2D(128, (2,2), activation='relu'),\n",
        "                            tf.keras.layers.MaxPooling2D(2,2),\n",
        "                            tf.keras.layers.Flatten(),\n",
        "                            tf.keras.layers.Dense(2048, activation='relu'),\n",
        "                            tf.keras.layers.Dropout(0.4),\n",
        "                            tf.keras.layers.Dense(num_class, activation='softmax')\n",
        "    ])\n",
        "\n",
        "\n",
        "    self.model.compile(optimizer=optimizer, loss='categorical_crossentropy', metrics=['acc'])\n",
        "\n",
        "    hisotry = self.model.fit(train_generator,\n",
        "                                epochs=epochs,\n",
        "                                validation_data=validation_generator,\n",
        "                                verbose=2,\n",
        "                                )\n",
        "    \n",
        "    # PLotting\n",
        "    if plot_training==True:\n",
        "      history = hisotry\n",
        "      acc = history.history['acc']\n",
        "      val_acc = history.history['val_acc']\n",
        "      loss = history.history['loss']\n",
        "      val_loss = history.history['val_loss']\n",
        "      epochs = range(len(acc))\n",
        "      # Accuracy\n",
        "      plt.plot(epochs, acc, 'r', label='Training accuracy')\n",
        "      plt.plot(epochs, val_acc, 'b', label='Validation accuracy')\n",
        "      plt.title('Training and validation accuracy')\n",
        "      plt.legend(loc=0)\n",
        "      plt.figure()\n",
        "      plt.show()\n",
        "      # Loss\n",
        "      plt.plot(epochs, loss, 'r', label='Training loss')\n",
        "      plt.plot(epochs, val_loss, 'b', label='Validation loss')\n",
        "      plt.title('Training and validation Loss')\n",
        "      plt.legend(loc=0)\n",
        "      plt.figure()\n",
        "      plt.show()\n",
        "    \n",
        "    # Save model\n",
        "    self.model.save('FaceDetectionModel.h5')\n",
        "\n",
        "  def predict_by_upload(self, is_face=False):\n",
        "    \n",
        "    if self.model == None:\n",
        "      print(\"Model hasn't been trained yet!\")\n",
        "      sys.exit()  \n",
        "    \n",
        "    uploaded = files.upload()\n",
        "\n",
        "    for fn in uploaded.keys():\n",
        "      # predicting images\n",
        "      path = fn\n",
        "      print(path)\n",
        "      plt.imshow(path)\n",
        "      plt.show()\n",
        "      img = image.load_img(path, target_size=(150, 150))\n",
        "      x = image.img_to_array(img)\n",
        "      x = np.expand_dims(x, axis=0)\n",
        "\n",
        "      images = np.vstack([x])\n",
        "\n",
        "      \n",
        "      if is_face:\n",
        "        faces = np.array([face  for img in images for face in self.extract_face(img)])\n",
        "        classes = self.model.predict(faces, batch_size=10)\n",
        "      else:\n",
        "        classes = self.model.predict(images, batch_size=10)\n",
        "      print(fn)\n",
        "      print(classes)"
      ],
      "execution_count": null,
      "outputs": []
    },
    {
      "cell_type": "code",
      "metadata": {
        "id": "yRyP7aNpY6-D"
      },
      "source": [
        "main_dir = '/content/tmp/images/'\n",
        "faces_dir = '/content/tmp_face/' # dont give this argument when running first time\n",
        "#face_directory = main_dir # when you want to train on whole images and not only on faces\n",
        "split = 0.2\n",
        "augment = False\n",
        "opt = 'rmsprop'\n",
        "epochs = 20\n",
        "batch_size = 20\n",
        "plots = True"
      ],
      "execution_count": null,
      "outputs": []
    },
    {
      "cell_type": "markdown",
      "metadata": {
        "id": "Bn8cTf3mSQsp"
      },
      "source": [
        "# TRaining Possibilities\n",
        "\n",
        "\n",
        "1.   *Extract Faces for the first time*. Do not give **faces_dir** parameter.\n",
        "2.   *Use already extracted faces*. Give the extracted faces directory path to the **faces_dir** parameter.\n",
        "3.   *Use original images*. Give original images directory path(same as **main_dir**) to the **faces_dir** parameter. \n",
        "\n"
      ]
    },
    {
      "cell_type": "code",
      "metadata": {
        "id": "MiPTRB-Tql4g",
        "colab": {
          "base_uri": "https://localhost:8080/",
          "height": 1000
        },
        "outputId": "82bce34c-b9a4-47c6-8615-e0d32e3cf1df"
      },
      "source": [
        "model = PersonDetectionModel()\n",
        "model.fit(main_dir, validation_split=split, augmentation=augment, optimizer=opt,\n",
        "                                            epochs=epochs, batch_size=batch_size, plot_training=plots, faces_directory=main_dir)"
      ],
      "execution_count": null,
      "outputs": [
        {
          "output_type": "stream",
          "text": [
            "Found 465 images belonging to 15 classes.\n",
            "Found 111 images belonging to 15 classes.\n",
            "Epoch 1/20\n",
            "24/24 - 4s - loss: 2.7439 - acc: 0.0667 - val_loss: 2.6899 - val_acc: 0.1081\n",
            "Epoch 2/20\n",
            "24/24 - 3s - loss: 2.7030 - acc: 0.0667 - val_loss: 2.6955 - val_acc: 0.0811\n",
            "Epoch 3/20\n",
            "24/24 - 3s - loss: 2.7005 - acc: 0.0989 - val_loss: 2.6712 - val_acc: 0.0721\n",
            "Epoch 4/20\n",
            "24/24 - 3s - loss: 2.6859 - acc: 0.1032 - val_loss: 2.6335 - val_acc: 0.0991\n",
            "Epoch 5/20\n",
            "24/24 - 3s - loss: 2.6328 - acc: 0.1226 - val_loss: 2.5815 - val_acc: 0.1351\n",
            "Epoch 6/20\n",
            "24/24 - 3s - loss: 2.5189 - acc: 0.1699 - val_loss: 2.4999 - val_acc: 0.1892\n",
            "Epoch 7/20\n",
            "24/24 - 3s - loss: 2.3168 - acc: 0.2473 - val_loss: 2.5138 - val_acc: 0.2162\n",
            "Epoch 8/20\n",
            "24/24 - 3s - loss: 2.0760 - acc: 0.3527 - val_loss: 2.3508 - val_acc: 0.2432\n",
            "Epoch 9/20\n",
            "24/24 - 3s - loss: 1.8316 - acc: 0.4022 - val_loss: 2.2541 - val_acc: 0.3153\n",
            "Epoch 10/20\n",
            "24/24 - 3s - loss: 1.5551 - acc: 0.5333 - val_loss: 2.3053 - val_acc: 0.3243\n",
            "Epoch 11/20\n",
            "24/24 - 3s - loss: 1.2505 - acc: 0.6366 - val_loss: 2.5464 - val_acc: 0.3153\n",
            "Epoch 12/20\n",
            "24/24 - 2s - loss: 0.9159 - acc: 0.7355 - val_loss: 2.4175 - val_acc: 0.3423\n",
            "Epoch 13/20\n",
            "24/24 - 3s - loss: 0.7047 - acc: 0.7742 - val_loss: 2.7022 - val_acc: 0.3964\n",
            "Epoch 14/20\n",
            "24/24 - 3s - loss: 0.5333 - acc: 0.8495 - val_loss: 2.9192 - val_acc: 0.4324\n",
            "Epoch 15/20\n",
            "24/24 - 3s - loss: 0.2240 - acc: 0.9355 - val_loss: 3.2934 - val_acc: 0.4414\n",
            "Epoch 16/20\n",
            "24/24 - 3s - loss: 0.3018 - acc: 0.9075 - val_loss: 3.9231 - val_acc: 0.4234\n",
            "Epoch 17/20\n",
            "24/24 - 3s - loss: 0.1866 - acc: 0.9548 - val_loss: 3.8393 - val_acc: 0.4595\n",
            "Epoch 18/20\n",
            "24/24 - 3s - loss: 0.4753 - acc: 0.9312 - val_loss: 4.3271 - val_acc: 0.4234\n",
            "Epoch 19/20\n",
            "24/24 - 3s - loss: 0.0933 - acc: 0.9763 - val_loss: 3.6492 - val_acc: 0.4414\n",
            "Epoch 20/20\n",
            "24/24 - 3s - loss: 0.2232 - acc: 0.9570 - val_loss: 3.7488 - val_acc: 0.4595\n"
          ],
          "name": "stdout"
        },
        {
          "output_type": "display_data",
          "data": {
            "image/png": "[encoded data removed]",
            "text/plain": [
              "<Figure size 432x288 with 1 Axes>"
            ]
          },
          "metadata": {
            "tags": [],
            "needs_background": "light"
          }
        },
        {
          "output_type": "display_data",
          "data": {
            "text/plain": [
              "<Figure size 432x288 with 0 Axes>"
            ]
          },
          "metadata": {
            "tags": []
          }
        },
        {
          "output_type": "display_data",
          "data": {
            "image/png": "[encoded data removed]",
            "text/plain": [
              "<Figure size 432x288 with 1 Axes>"
            ]
          },
          "metadata": {
            "tags": [],
            "needs_background": "light"
          }
        },
        {
          "output_type": "display_data",
          "data": {
            "text/plain": [
              "<Figure size 432x288 with 0 Axes>"
            ]
          },
          "metadata": {
            "tags": []
          }
        }
      ]
    },
    {
      "cell_type": "code",
      "metadata": {
        "id": "j6KlNZqkWI_e",
        "colab": {
          "resources": {
            "http://localhost:8080/nbextensions/google.colab/files.js": {
              "data": "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",
              "ok": true,
              "headers": [
                [
                  "content-type",
                  "application/javascript"
                ]
              ],
              "status": 200,
              "status_text": ""
            }
          },
          "base_uri": "https://localhost:8080/",
          "height": 108
        },
        "outputId": "8b0c44aa-9307-40c3-dd7a-62d74c22b4e7"
      },
      "source": [
        "model.predict_by_upload()"
      ],
      "execution_count": null,
      "outputs": [
        {
          "output_type": "display_data",
          "data": {
            "text/html": [
              "\n",
              "     <input type=\"file\" id=\"files-61ccf8e1-1b9b-457f-b83b-e02ae178b198\" name=\"files[]\" multiple disabled\n",
              "        style=\"border:none\" />\n",
              "     <output id=\"result-61ccf8e1-1b9b-457f-b83b-e02ae178b198\">\n",
              "      Upload widget is only available when the cell has been executed in the\n",
              "      current browser session. Please rerun this cell to enable.\n",
              "      </output>\n",
              "      <script src=\"/nbextensions/google.colab/files.js\"></script> "
            ],
            "text/plain": [
              "<IPython.core.display.HTML object>"
            ]
          },
          "metadata": {
            "tags": []
          }
        },
        {
          "output_type": "stream",
          "text": [
            "Saving Dhoni.png to Dhoni.png\n",
            "Dhoni.png\n",
            "[[0. 0. 0. 0. 0. 0. 0. 0. 1. 0. 0. 0. 0. 0. 0.]]\n"
          ],
          "name": "stdout"
        }
      ]
    }
  ]
}